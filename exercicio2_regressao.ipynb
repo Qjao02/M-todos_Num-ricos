{
 "cells": [
  {
   "cell_type": "code",
   "execution_count": 1,
   "metadata": {
    "hideCode": false,
    "hidePrompt": false
   },
   "outputs": [
    {
     "data": {
      "text/plain": [
       "<function seaborn.rcmod.set(context='notebook', style='darkgrid', palette='deep', font='sans-serif', font_scale=1, color_codes=True, rc=None)>"
      ]
     },
     "execution_count": 1,
     "metadata": {},
     "output_type": "execute_result"
    }
   ],
   "source": [
    "import pandas as pd\n",
    "import numpy as np\n",
    "import matplotlib.pyplot as plt\n",
    "import seaborn as sns\n",
    "from sklearn.model_selection import train_test_split\n",
    "from sklearn.metrics import mean_squared_error\n",
    "from sklearn.decomposition import PCA\n",
    "from math import sqrt\n",
    "\n",
    "#imports locais\n",
    "sns.set"
   ]
  },
  {
   "cell_type": "markdown",
   "metadata": {
    "hideCode": false,
    "hidePrompt": false
   },
   "source": [
    "## Funções para resolução do sistema"
   ]
  },
  {
   "cell_type": "code",
   "execution_count": 2,
   "metadata": {
    "hideCode": false,
    "hidePrompt": false
   },
   "outputs": [],
   "source": [
    "def eliminacao_gauss(matriz, dimensao, b):\n",
    "    x = []\n",
    "    for i in range(dimensao):\n",
    "        x.append(1)\n",
    "\n",
    "    for k in range(0, dimensao - 1  ):\n",
    "        i = k+1\n",
    "        for i in range(k+1, dimensao ):\n",
    "            m = matriz[i][k]/matriz[k][k]\n",
    "            matriz[i][k] = 0\n",
    "            j = k+1\n",
    "            for j in range(k+1, dimensao):\n",
    "                matriz[i][j] = matriz[i][j] - (m * matriz[k][j])\n",
    "\n",
    "            b[i] = b[i] - m * b[k]\n",
    "\n",
    "\n",
    "    x[dimensao - 1] = b[dimensao-1] / matriz[dimensao-1][dimensao-1]\n",
    "    for i in range(dimensao-2, -1, -1):\n",
    "        soma = 0\n",
    "        for j in range(i+1, dimensao):\n",
    "            soma = soma + matriz[i][j] * x[j]\n",
    "\n",
    "        x[i] = (b[i] - soma)/matriz[i][i]\n",
    "\n",
    "    return x, matriz"
   ]
  },
  {
   "cell_type": "code",
   "execution_count": 3,
   "metadata": {
    "hideCode": false,
    "hidePrompt": false
   },
   "outputs": [],
   "source": [
    "def calc_erro(x_atual,x_ant, err_list):\n",
    "    num = []\n",
    "    for i in range (len(x_atual)):\n",
    "        num.append(abs(x_atual[i] - x_ant[i]))\n",
    "\n",
    "    err = max(num)/abs(max(x_atual))\n",
    "    err_list.append(err)\n",
    "    return err\n"
   ]
  },
  {
   "cell_type": "code",
   "execution_count": 4,
   "metadata": {
    "hideCode": false,
    "hidePrompt": false
   },
   "outputs": [],
   "source": [
    "\n",
    "def gaussSeidel(matriz, b, tol , stop ):\n",
    "    err_list = []\n",
    "    x_ant = []\n",
    "    x_atual = []\n",
    "    for i in range(len(b)):\n",
    "        x_ant.append(0) \n",
    "        x_atual.append(0)\n",
    "\n",
    "    k = 1\n",
    "    while(k <= stop):\n",
    "        for i in range(0,len(b)):\n",
    "            alpha = 0\n",
    "            for j in range(0, i):\n",
    "                alpha = alpha + matriz[i][j] * x_atual[j]\n",
    "            for j in range(i+1, len(b)):\n",
    "                alpha = alpha + matriz[i][j] * x_ant[j]\n",
    "            x_atual[i] = (b[i] - alpha) / matriz[i][i]\n",
    "        \n",
    "        if( abs(calc_erro(x_atual,x_ant, err_list)) < tol):\n",
    "            return x_atual, err_list\n",
    "        for i in range(len(x_atual)):\n",
    "            x_ant[i] = x_atual[i]\n",
    "        k = k+1\n",
    "\n",
    "    print('numero de iteracoes expirados')\n",
    "    return x_atual, err_list\n"
   ]
  },
  {
   "cell_type": "markdown",
   "metadata": {
    "hideCode": false,
    "hidePrompt": false
   },
   "source": [
    "## Criando um dataframe com a base de dados"
   ]
  },
  {
   "cell_type": "markdown",
   "metadata": {},
   "source": [
    "## Realizando a leitura da base de dados"
   ]
  },
  {
   "cell_type": "code",
   "execution_count": 5,
   "metadata": {
    "hideCode": false,
    "hidePrompt": false
   },
   "outputs": [],
   "source": [
    "df = pd.read_csv('input/machine.data',  header=None)"
   ]
  },
  {
   "cell_type": "code",
   "execution_count": 6,
   "metadata": {
    "hideCode": false,
    "hidePrompt": false
   },
   "outputs": [],
   "source": [
    "df.columns = ['vendon_names','model','MYCT','MMIN', 'MMAX', 'CACH','CHMIN', 'CHMAX', 'PRP', 'ERP']"
   ]
  },
  {
   "cell_type": "markdown",
   "metadata": {
    "hideCode": false,
    "hidePrompt": false
   },
   "source": [
    "10 primeiros itens do dataset"
   ]
  },
  {
   "cell_type": "code",
   "execution_count": 7,
   "metadata": {
    "hideCode": false,
    "hidePrompt": false
   },
   "outputs": [
    {
     "data": {
      "text/html": [
       "<div>\n",
       "<style scoped>\n",
       "    .dataframe tbody tr th:only-of-type {\n",
       "        vertical-align: middle;\n",
       "    }\n",
       "\n",
       "    .dataframe tbody tr th {\n",
       "        vertical-align: top;\n",
       "    }\n",
       "\n",
       "    .dataframe thead th {\n",
       "        text-align: right;\n",
       "    }\n",
       "</style>\n",
       "<table border=\"1\" class=\"dataframe\">\n",
       "  <thead>\n",
       "    <tr style=\"text-align: right;\">\n",
       "      <th></th>\n",
       "      <th>vendon_names</th>\n",
       "      <th>model</th>\n",
       "      <th>MYCT</th>\n",
       "      <th>MMIN</th>\n",
       "      <th>MMAX</th>\n",
       "      <th>CACH</th>\n",
       "      <th>CHMIN</th>\n",
       "      <th>CHMAX</th>\n",
       "      <th>PRP</th>\n",
       "      <th>ERP</th>\n",
       "    </tr>\n",
       "  </thead>\n",
       "  <tbody>\n",
       "    <tr>\n",
       "      <th>0</th>\n",
       "      <td>adviser</td>\n",
       "      <td>32/60</td>\n",
       "      <td>125</td>\n",
       "      <td>256</td>\n",
       "      <td>6000</td>\n",
       "      <td>256</td>\n",
       "      <td>16</td>\n",
       "      <td>128</td>\n",
       "      <td>198</td>\n",
       "      <td>199</td>\n",
       "    </tr>\n",
       "    <tr>\n",
       "      <th>1</th>\n",
       "      <td>amdahl</td>\n",
       "      <td>470v/7</td>\n",
       "      <td>29</td>\n",
       "      <td>8000</td>\n",
       "      <td>32000</td>\n",
       "      <td>32</td>\n",
       "      <td>8</td>\n",
       "      <td>32</td>\n",
       "      <td>269</td>\n",
       "      <td>253</td>\n",
       "    </tr>\n",
       "    <tr>\n",
       "      <th>2</th>\n",
       "      <td>amdahl</td>\n",
       "      <td>470v/7a</td>\n",
       "      <td>29</td>\n",
       "      <td>8000</td>\n",
       "      <td>32000</td>\n",
       "      <td>32</td>\n",
       "      <td>8</td>\n",
       "      <td>32</td>\n",
       "      <td>220</td>\n",
       "      <td>253</td>\n",
       "    </tr>\n",
       "    <tr>\n",
       "      <th>3</th>\n",
       "      <td>amdahl</td>\n",
       "      <td>470v/7b</td>\n",
       "      <td>29</td>\n",
       "      <td>8000</td>\n",
       "      <td>32000</td>\n",
       "      <td>32</td>\n",
       "      <td>8</td>\n",
       "      <td>32</td>\n",
       "      <td>172</td>\n",
       "      <td>253</td>\n",
       "    </tr>\n",
       "    <tr>\n",
       "      <th>4</th>\n",
       "      <td>amdahl</td>\n",
       "      <td>470v/7c</td>\n",
       "      <td>29</td>\n",
       "      <td>8000</td>\n",
       "      <td>16000</td>\n",
       "      <td>32</td>\n",
       "      <td>8</td>\n",
       "      <td>16</td>\n",
       "      <td>132</td>\n",
       "      <td>132</td>\n",
       "    </tr>\n",
       "    <tr>\n",
       "      <th>5</th>\n",
       "      <td>amdahl</td>\n",
       "      <td>470v/b</td>\n",
       "      <td>26</td>\n",
       "      <td>8000</td>\n",
       "      <td>32000</td>\n",
       "      <td>64</td>\n",
       "      <td>8</td>\n",
       "      <td>32</td>\n",
       "      <td>318</td>\n",
       "      <td>290</td>\n",
       "    </tr>\n",
       "    <tr>\n",
       "      <th>6</th>\n",
       "      <td>amdahl</td>\n",
       "      <td>580-5840</td>\n",
       "      <td>23</td>\n",
       "      <td>16000</td>\n",
       "      <td>32000</td>\n",
       "      <td>64</td>\n",
       "      <td>16</td>\n",
       "      <td>32</td>\n",
       "      <td>367</td>\n",
       "      <td>381</td>\n",
       "    </tr>\n",
       "    <tr>\n",
       "      <th>7</th>\n",
       "      <td>amdahl</td>\n",
       "      <td>580-5850</td>\n",
       "      <td>23</td>\n",
       "      <td>16000</td>\n",
       "      <td>32000</td>\n",
       "      <td>64</td>\n",
       "      <td>16</td>\n",
       "      <td>32</td>\n",
       "      <td>489</td>\n",
       "      <td>381</td>\n",
       "    </tr>\n",
       "    <tr>\n",
       "      <th>8</th>\n",
       "      <td>amdahl</td>\n",
       "      <td>580-5860</td>\n",
       "      <td>23</td>\n",
       "      <td>16000</td>\n",
       "      <td>64000</td>\n",
       "      <td>64</td>\n",
       "      <td>16</td>\n",
       "      <td>32</td>\n",
       "      <td>636</td>\n",
       "      <td>749</td>\n",
       "    </tr>\n",
       "    <tr>\n",
       "      <th>9</th>\n",
       "      <td>amdahl</td>\n",
       "      <td>580-5880</td>\n",
       "      <td>23</td>\n",
       "      <td>32000</td>\n",
       "      <td>64000</td>\n",
       "      <td>128</td>\n",
       "      <td>32</td>\n",
       "      <td>64</td>\n",
       "      <td>1144</td>\n",
       "      <td>1238</td>\n",
       "    </tr>\n",
       "  </tbody>\n",
       "</table>\n",
       "</div>"
      ],
      "text/plain": [
       "  vendon_names     model  MYCT   MMIN   MMAX  CACH  CHMIN  CHMAX   PRP   ERP\n",
       "0      adviser     32/60   125    256   6000   256     16    128   198   199\n",
       "1       amdahl    470v/7    29   8000  32000    32      8     32   269   253\n",
       "2       amdahl   470v/7a    29   8000  32000    32      8     32   220   253\n",
       "3       amdahl   470v/7b    29   8000  32000    32      8     32   172   253\n",
       "4       amdahl   470v/7c    29   8000  16000    32      8     16   132   132\n",
       "5       amdahl    470v/b    26   8000  32000    64      8     32   318   290\n",
       "6       amdahl  580-5840    23  16000  32000    64     16     32   367   381\n",
       "7       amdahl  580-5850    23  16000  32000    64     16     32   489   381\n",
       "8       amdahl  580-5860    23  16000  64000    64     16     32   636   749\n",
       "9       amdahl  580-5880    23  32000  64000   128     32     64  1144  1238"
      ]
     },
     "execution_count": 7,
     "metadata": {},
     "output_type": "execute_result"
    }
   ],
   "source": [
    "df.head(10)"
   ]
  },
  {
   "cell_type": "code",
   "execution_count": 9,
   "metadata": {
    "hideCode": false,
    "hidePrompt": false
   },
   "outputs": [],
   "source": [
    "df = df.drop(columns=['vendon_names', 'model'])\n",
    "df.shape\n",
    "df_y = df['ERP']\n",
    "df = df.drop(columns=['ERP'])\n",
    "df_x = df"
   ]
  },
  {
   "cell_type": "markdown",
   "metadata": {},
   "source": [
    "Separando o o conjunto de dados em treino teste"
   ]
  },
  {
   "cell_type": "code",
   "execution_count": 10,
   "metadata": {
    "hideCode": false,
    "hidePrompt": false
   },
   "outputs": [],
   "source": [
    "X_train, X_test, y_train, y_test = train_test_split(df_x.values, df_y.values, test_size=0.3, random_state=1 )"
   ]
  },
  {
   "cell_type": "markdown",
   "metadata": {},
   "source": [
    "Dimensao da base de treino"
   ]
  },
  {
   "cell_type": "code",
   "execution_count": 11,
   "metadata": {
    "hideCode": false,
    "hidePrompt": false
   },
   "outputs": [
    {
     "data": {
      "text/plain": [
       "(146, 7)"
      ]
     },
     "execution_count": 11,
     "metadata": {},
     "output_type": "execute_result"
    }
   ],
   "source": [
    "X_train.shape"
   ]
  },
  {
   "cell_type": "markdown",
   "metadata": {},
   "source": [
    "## Criando o modelo de regressão\n",
    "calculando a matriz GT * G"
   ]
  },
  {
   "cell_type": "code",
   "execution_count": 13,
   "metadata": {
    "hideCode": false,
    "hidePrompt": false
   },
   "outputs": [],
   "source": [
    "G_GT =  np.dot(X_train.transpose(), X_train)"
   ]
  },
  {
   "cell_type": "code",
   "execution_count": 14,
   "metadata": {
    "hideCode": false,
    "hidePrompt": false
   },
   "outputs": [
    {
     "data": {
      "text/plain": [
       "array([[   12762310,    33431546,   181139080,      252724,       58413,\n",
       "             323306,     1235930],\n",
       "       [   33431546,  3806430692, 11161471096,    25359954,     4171916,\n",
       "           13029800,   135196684],\n",
       "       [  181139080, 11161471096, 45868479088,    90819716,    15327624,\n",
       "           65133624,   491369028],\n",
       "       [     252724,    25359954,    90819716,      377101,       41800,\n",
       "             159300,     1164368],\n",
       "       [      58413,     4171916,    15327624,       41800,        9243,\n",
       "              27221,      180454],\n",
       "       [     323306,    13029800,    65133624,      159300,       27221,\n",
       "             179784,      785159],\n",
       "       [    1235930,   135196684,   491369028,     1164368,      180454,\n",
       "             785159,     6482269]], dtype=int64)"
      ]
     },
     "execution_count": 14,
     "metadata": {},
     "output_type": "execute_result"
    }
   ],
   "source": [
    "G_GT"
   ]
  },
  {
   "cell_type": "markdown",
   "metadata": {},
   "source": [
    "Calculando a matriz GT * Y"
   ]
  },
  {
   "cell_type": "code",
   "execution_count": 15,
   "metadata": {
    "hideCode": false,
    "hidePrompt": false
   },
   "outputs": [],
   "source": [
    "GT_y = np.dot(X_train.transpose(),y_train)"
   ]
  },
  {
   "cell_type": "markdown",
   "metadata": {},
   "source": [
    "Resolvendo o sistema Linear"
   ]
  },
  {
   "cell_type": "code",
   "execution_count": 16,
   "metadata": {
    "hideCode": false,
    "hidePrompt": false
   },
   "outputs": [],
   "source": [
    "alphas, err_list = gaussSeidel(G_GT, GT_y, 0.00000005, 500000)"
   ]
  },
  {
   "cell_type": "markdown",
   "metadata": {},
   "source": [
    "## Aplicando a regressão no conjunto de teste"
   ]
  },
  {
   "cell_type": "code",
   "execution_count": 17,
   "metadata": {
    "hideCode": false,
    "hidePrompt": false
   },
   "outputs": [],
   "source": [
    "y_predict = []\n",
    "mult = []\n",
    "for test in X_test:\n",
    "    for i in range(len(alphas)):\n",
    "        mult.append(test[i] * alphas[i])\n",
    "    y_predict.append(sum(mult))\n",
    "    mult.clear()"
   ]
  },
  {
   "cell_type": "markdown",
   "metadata": {},
   "source": [
    "10 primeiros elementos obtidos pelo modelo de regressão"
   ]
  },
  {
   "cell_type": "code",
   "execution_count": 18,
   "metadata": {
    "hideCode": false,
    "hidePrompt": false
   },
   "outputs": [
    {
     "data": {
      "text/plain": [
       "[77.73420146416437,\n",
       " 92.28767674887425,\n",
       " 14.784368903411314,\n",
       " 32.757419356900456,\n",
       " 214.06899303994004,\n",
       " 162.52452327408767,\n",
       " 78.5376734599559,\n",
       " 152.94888004134873,\n",
       " 201.87169704415695,\n",
       " 159.3352590054709]"
      ]
     },
     "execution_count": 18,
     "metadata": {},
     "output_type": "execute_result"
    }
   ],
   "source": [
    "y_predict[:10]"
   ]
  },
  {
   "cell_type": "markdown",
   "metadata": {},
   "source": [
    "Calcula o erro da pr"
   ]
  },
  {
   "cell_type": "code",
   "execution_count": 19,
   "metadata": {
    "hideCode": false,
    "hidePrompt": false
   },
   "outputs": [],
   "source": [
    "error = sqrt(mean_squared_error(y_test,y_predict))"
   ]
  },
  {
   "cell_type": "code",
   "execution_count": 20,
   "metadata": {
    "hideCode": false,
    "hidePrompt": false
   },
   "outputs": [
    {
     "data": {
      "text/plain": [
       "40.13567967028691"
      ]
     },
     "execution_count": 20,
     "metadata": {},
     "output_type": "execute_result"
    }
   ],
   "source": [
    "error"
   ]
  },
  {
   "cell_type": "markdown",
   "metadata": {},
   "source": [
    "## PCA\n",
    "o Algoritimo foi aplicado apenas para que seja possivel obtenção de um grafico com a regressão"
   ]
  },
  {
   "cell_type": "code",
   "execution_count": 21,
   "metadata": {
    "hideCode": false,
    "hidePrompt": false
   },
   "outputs": [],
   "source": [
    "pca = PCA(n_components=1)\n",
    "X_train_pca = pca.fit_transform(X_train)\n",
    "X_train_1d = []\n",
    "for element in X_train_pca:\n",
    "    X_train_1d.append(element[0])"
   ]
  },
  {
   "cell_type": "markdown",
   "metadata": {},
   "source": [
    "## Regressao\n",
    "plot da regressao para o conjunto de dados."
   ]
  },
  {
   "cell_type": "code",
   "execution_count": 22,
   "metadata": {},
   "outputs": [
    {
     "name": "stderr",
     "output_type": "stream",
     "text": [
      "C:\\Users\\joao_\\Anaconda3\\lib\\site-packages\\scipy\\stats\\stats.py:1713: FutureWarning: Using a non-tuple sequence for multidimensional indexing is deprecated; use `arr[tuple(seq)]` instead of `arr[seq]`. In the future this will be interpreted as an array index, `arr[np.array(seq)]`, which will result either in an error or a different result.\n",
      "  return np.add.reduce(sorted[indexer] * weights, axis=axis) / sumval\n"
     ]
    },
    {
     "data": {
      "text/plain": [
       "<matplotlib.axes._subplots.AxesSubplot at 0x214be046978>"
      ]
     },
     "execution_count": 22,
     "metadata": {},
     "output_type": "execute_result"
    },
    {
     "data": {
      "image/png": "[encoded data removed]",
      "text/plain": [
       "<Figure size 432x288 with 1 Axes>"
      ]
     },
     "metadata": {
      "needs_background": "light"
     },
     "output_type": "display_data"
    }
   ],
   "source": [
    "sns.regplot(x=X_train_1d, y=y_train, data=df)"
   ]
  },
  {
   "cell_type": "code",
   "execution_count": null,
   "metadata": {},
   "outputs": [],
   "source": []
  }
 ],
 "metadata": {
  "hide_code_all_hidden": false,
  "kernelspec": {
   "display_name": "Python 3",
   "language": "python",
   "name": "python3"
  },
  "language_info": {
   "codemirror_mode": {
    "name": "ipython",
    "version": 3
   },
   "file_extension": ".py",
   "mimetype": "text/x-python",
   "name": "python",
   "nbconvert_exporter": "python",
   "pygments_lexer": "ipython3",
   "version": "3.6.6"
  }
 },
 "nbformat": 4,
 "nbformat_minor": 2
}
