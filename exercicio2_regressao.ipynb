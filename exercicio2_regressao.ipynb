{
 "cells": [
  {
   "cell_type": "code",
   "execution_count": 1,
   "metadata": {
    "hideCode": false,
    "hidePrompt": false
   },
   "outputs": [
    {
     "data": {
      "text/plain": [
       "<function seaborn.rcmod.set(context='notebook', style='darkgrid', palette='deep', font='sans-serif', font_scale=1, color_codes=True, rc=None)>"
      ]
     },
     "execution_count": 1,
     "metadata": {},
     "output_type": "execute_result"
    }
   ],
   "source": [
    "import pandas as pd\n",
    "import numpy as np\n",
    "import matplotlib.pyplot as plt\n",
    "import seaborn as sns\n",
    "from sklearn.model_selection import train_test_split\n",
    "from sklearn.metrics import mean_squared_error\n",
    "from sklearn.decomposition import PCA\n",
    "from math import sqrt\n",
    "\n",
    "#imports locais\n",
    "sns.set"
   ]
  },
  {
   "cell_type": "markdown",
   "metadata": {
    "hideCode": false,
    "hidePrompt": false
   },
   "source": [
    "## Funções para resolução do sistema"
   ]
  },
  {
   "cell_type": "code",
   "execution_count": 2,
   "metadata": {
    "hideCode": false,
    "hidePrompt": false
   },
   "outputs": [],
   "source": [
    "def eliminacao_gauss(matriz, dimensao, b):\n",
    "    x = []\n",
    "    for i in range(dimensao):\n",
    "        x.append(1)\n",
    "\n",
    "    for k in range(0, dimensao - 1  ):\n",
    "        i = k+1\n",
    "        for i in range(k+1, dimensao ):\n",
    "            m = matriz[i][k]/matriz[k][k]\n",
    "            matriz[i][k] = 0\n",
    "            j = k+1\n",
    "            for j in range(k+1, dimensao):\n",
    "                matriz[i][j] = matriz[i][j] - (m * matriz[k][j])\n",
    "\n",
    "            b[i] = b[i] - m * b[k]\n",
    "\n",
    "\n",
    "    x[dimensao - 1] = b[dimensao-1] / matriz[dimensao-1][dimensao-1]\n",
    "    for i in range(dimensao-2, -1, -1):\n",
    "        soma = 0\n",
    "        for j in range(i+1, dimensao):\n",
    "            soma = soma + matriz[i][j] * x[j]\n",
    "\n",
    "        x[i] = (b[i] - soma)/matriz[i][i]\n",
    "\n",
    "    return x, matriz"
   ]
  },
  {
   "cell_type": "code",
   "execution_count": 3,
   "metadata": {
    "hideCode": false,
    "hidePrompt": false
   },
   "outputs": [],
   "source": [
    "def calc_erro(x_atual,x_ant, err_list):\n",
    "    num = []\n",
    "    for i in range (len(x_atual)):\n",
    "        num.append(abs(x_atual[i] - x_ant[i]))\n",
    "\n",
    "    err = max(num)/abs(max(x_atual))\n",
    "    err_list.append(err)\n",
    "    return err\n"
   ]
  },
  {
   "cell_type": "code",
   "execution_count": 4,
   "metadata": {
    "hideCode": false,
    "hidePrompt": false
   },
   "outputs": [],
   "source": [
    "\n",
    "def gaussSeidel(matriz, b, tol , stop ):\n",
    "    err_list = []\n",
    "    x_ant = []\n",
    "    x_atual = []\n",
    "    for i in range(len(b)):\n",
    "        x_ant.append(0) \n",
    "        x_atual.append(0)\n",
    "\n",
    "    k = 1\n",
    "    while(k <= stop):\n",
    "        for i in range(0,len(b)):\n",
    "            alpha = 0\n",
    "            for j in range(0, i):\n",
    "                alpha = alpha + matriz[i][j] * x_atual[j]\n",
    "            for j in range(i+1, len(b)):\n",
    "                alpha = alpha + matriz[i][j] * x_ant[j]\n",
    "            x_atual[i] = (b[i] - alpha) / matriz[i][i]\n",
    "        \n",
    "        if( abs(calc_erro(x_atual,x_ant, err_list)) < tol):\n",
    "            return x_atual, err_list\n",
    "        for i in range(len(x_atual)):\n",
    "            x_ant[i] = x_atual[i]\n",
    "        k = k+1\n",
    "\n",
    "    print('numero de iteracoes expirados')\n",
    "    return x_atual, err_list\n"
   ]
  },
  {
   "cell_type": "markdown",
   "metadata": {
    "hideCode": false,
    "hidePrompt": false
   },
   "source": [
    "## Criando um dataframe com a base de dados"
   ]
  },
  {
   "cell_type": "code",
   "execution_count": 5,
   "metadata": {
    "hideCode": false,
    "hidePrompt": false
   },
   "outputs": [],
   "source": [
    "df = pd.read_csv('input/machine.data',  header=None)"
   ]
  },
  {
   "cell_type": "code",
   "execution_count": 6,
   "metadata": {
    "hideCode": false,
    "hidePrompt": false
   },
   "outputs": [],
   "source": [
    "df.columns = ['vendon_names','model','MYCT','MMIN', 'MMAX', 'CACH','CHMIN', 'CHMAX', 'PRP', 'ERP']"
   ]
  },
  {
   "cell_type": "markdown",
   "metadata": {
    "hideCode": false,
    "hidePrompt": false
   },
   "source": [
    "10 primeiros itens do dataset"
   ]
  },
  {
   "cell_type": "code",
   "execution_count": 8,
   "metadata": {
    "hideCode": false,
    "hidePrompt": false
   },
   "outputs": [
    {
     "data": {
      "text/html": [
       "<div>\n",
       "<style scoped>\n",
       "    .dataframe tbody tr th:only-of-type {\n",
       "        vertical-align: middle;\n",
       "    }\n",
       "\n",
       "    .dataframe tbody tr th {\n",
       "        vertical-align: top;\n",
       "    }\n",
       "\n",
       "    .dataframe thead th {\n",
       "        text-align: right;\n",
       "    }\n",
       "</style>\n",
       "<table border=\"1\" class=\"dataframe\">\n",
       "  <thead>\n",
       "    <tr style=\"text-align: right;\">\n",
       "      <th></th>\n",
       "      <th>MYCT</th>\n",
       "      <th>MMIN</th>\n",
       "      <th>MMAX</th>\n",
       "      <th>CACH</th>\n",
       "      <th>CHMIN</th>\n",
       "      <th>CHMAX</th>\n",
       "      <th>PRP</th>\n",
       "    </tr>\n",
       "  </thead>\n",
       "  <tbody>\n",
       "    <tr>\n",
       "      <th>0</th>\n",
       "      <td>125</td>\n",
       "      <td>256</td>\n",
       "      <td>6000</td>\n",
       "      <td>256</td>\n",
       "      <td>16</td>\n",
       "      <td>128</td>\n",
       "      <td>198</td>\n",
       "    </tr>\n",
       "    <tr>\n",
       "      <th>1</th>\n",
       "      <td>29</td>\n",
       "      <td>8000</td>\n",
       "      <td>32000</td>\n",
       "      <td>32</td>\n",
       "      <td>8</td>\n",
       "      <td>32</td>\n",
       "      <td>269</td>\n",
       "    </tr>\n",
       "    <tr>\n",
       "      <th>2</th>\n",
       "      <td>29</td>\n",
       "      <td>8000</td>\n",
       "      <td>32000</td>\n",
       "      <td>32</td>\n",
       "      <td>8</td>\n",
       "      <td>32</td>\n",
       "      <td>220</td>\n",
       "    </tr>\n",
       "    <tr>\n",
       "      <th>3</th>\n",
       "      <td>29</td>\n",
       "      <td>8000</td>\n",
       "      <td>32000</td>\n",
       "      <td>32</td>\n",
       "      <td>8</td>\n",
       "      <td>32</td>\n",
       "      <td>172</td>\n",
       "    </tr>\n",
       "    <tr>\n",
       "      <th>4</th>\n",
       "      <td>29</td>\n",
       "      <td>8000</td>\n",
       "      <td>16000</td>\n",
       "      <td>32</td>\n",
       "      <td>8</td>\n",
       "      <td>16</td>\n",
       "      <td>132</td>\n",
       "    </tr>\n",
       "    <tr>\n",
       "      <th>5</th>\n",
       "      <td>26</td>\n",
       "      <td>8000</td>\n",
       "      <td>32000</td>\n",
       "      <td>64</td>\n",
       "      <td>8</td>\n",
       "      <td>32</td>\n",
       "      <td>318</td>\n",
       "    </tr>\n",
       "    <tr>\n",
       "      <th>6</th>\n",
       "      <td>23</td>\n",
       "      <td>16000</td>\n",
       "      <td>32000</td>\n",
       "      <td>64</td>\n",
       "      <td>16</td>\n",
       "      <td>32</td>\n",
       "      <td>367</td>\n",
       "    </tr>\n",
       "    <tr>\n",
       "      <th>7</th>\n",
       "      <td>23</td>\n",
       "      <td>16000</td>\n",
       "      <td>32000</td>\n",
       "      <td>64</td>\n",
       "      <td>16</td>\n",
       "      <td>32</td>\n",
       "      <td>489</td>\n",
       "    </tr>\n",
       "    <tr>\n",
       "      <th>8</th>\n",
       "      <td>23</td>\n",
       "      <td>16000</td>\n",
       "      <td>64000</td>\n",
       "      <td>64</td>\n",
       "      <td>16</td>\n",
       "      <td>32</td>\n",
       "      <td>636</td>\n",
       "    </tr>\n",
       "    <tr>\n",
       "      <th>9</th>\n",
       "      <td>23</td>\n",
       "      <td>32000</td>\n",
       "      <td>64000</td>\n",
       "      <td>128</td>\n",
       "      <td>32</td>\n",
       "      <td>64</td>\n",
       "      <td>1144</td>\n",
       "    </tr>\n",
       "  </tbody>\n",
       "</table>\n",
       "</div>"
      ],
      "text/plain": [
       "   MYCT   MMIN   MMAX  CACH  CHMIN  CHMAX   PRP\n",
       "0   125    256   6000   256     16    128   198\n",
       "1    29   8000  32000    32      8     32   269\n",
       "2    29   8000  32000    32      8     32   220\n",
       "3    29   8000  32000    32      8     32   172\n",
       "4    29   8000  16000    32      8     16   132\n",
       "5    26   8000  32000    64      8     32   318\n",
       "6    23  16000  32000    64     16     32   367\n",
       "7    23  16000  32000    64     16     32   489\n",
       "8    23  16000  64000    64     16     32   636\n",
       "9    23  32000  64000   128     32     64  1144"
      ]
     },
     "execution_count": 8,
     "metadata": {},
     "output_type": "execute_result"
    }
   ],
   "source": [
    "df.head(10)"
   ]
  },
  {
   "cell_type": "code",
   "execution_count": 7,
   "metadata": {
    "hideCode": false,
    "hidePrompt": false
   },
   "outputs": [],
   "source": [
    "df = df.drop(columns=['vendon_names', 'model'])\n",
    "df.shape\n",
    "df_y = df['ERP']\n",
    "df = df.drop(columns=['ERP'])\n",
    "df_x = df"
   ]
  },
  {
   "cell_type": "code",
   "execution_count": 10,
   "metadata": {
    "hideCode": false,
    "hidePrompt": false
   },
   "outputs": [],
   "source": [
    "X_train, X_test, y_train, y_test = train_test_split(df_x.values, df_y.values, test_size=0.3, random_state=1 )"
   ]
  },
  {
   "cell_type": "code",
   "execution_count": 11,
   "metadata": {
    "hideCode": false,
    "hidePrompt": false
   },
   "outputs": [
    {
     "data": {
      "text/plain": [
       "(146, 7)"
      ]
     },
     "execution_count": 11,
     "metadata": {},
     "output_type": "execute_result"
    }
   ],
   "source": [
    "X_train.shape"
   ]
  },
  {
   "cell_type": "code",
   "execution_count": 12,
   "metadata": {
    "hideCode": false,
    "hidePrompt": false
   },
   "outputs": [
    {
     "data": {
      "text/plain": [
       "array([[  220,   160,   110, ...,   175,    92,    50],\n",
       "       [ 1000,  1000,  1000, ...,   256,  2000,  1000],\n",
       "       [ 8000,  8000, 12000, ...,  2000,  8000,  4000],\n",
       "       ...,\n",
       "       [    1,     1,     1, ...,     3,     1,     1],\n",
       "       [    2,    14,     2, ...,    24,     6,     5],\n",
       "       [   71,    60,    60, ...,    22,    62,    29]], dtype=int64)"
      ]
     },
     "execution_count": 12,
     "metadata": {},
     "output_type": "execute_result"
    }
   ],
   "source": [
    "X_train.transpose()"
   ]
  },
  {
   "cell_type": "code",
   "execution_count": 13,
   "metadata": {
    "hideCode": false,
    "hidePrompt": false
   },
   "outputs": [],
   "source": [
    "G_GT =  np.dot(X_train.transpose(), X_train)"
   ]
  },
  {
   "cell_type": "code",
   "execution_count": 14,
   "metadata": {
    "hideCode": false,
    "hidePrompt": false
   },
   "outputs": [
    {
     "data": {
      "text/plain": [
       "array([[   12762310,    33431546,   181139080,      252724,       58413,\n",
       "             323306,     1235930],\n",
       "       [   33431546,  3806430692, 11161471096,    25359954,     4171916,\n",
       "           13029800,   135196684],\n",
       "       [  181139080, 11161471096, 45868479088,    90819716,    15327624,\n",
       "           65133624,   491369028],\n",
       "       [     252724,    25359954,    90819716,      377101,       41800,\n",
       "             159300,     1164368],\n",
       "       [      58413,     4171916,    15327624,       41800,        9243,\n",
       "              27221,      180454],\n",
       "       [     323306,    13029800,    65133624,      159300,       27221,\n",
       "             179784,      785159],\n",
       "       [    1235930,   135196684,   491369028,     1164368,      180454,\n",
       "             785159,     6482269]], dtype=int64)"
      ]
     },
     "execution_count": 14,
     "metadata": {},
     "output_type": "execute_result"
    }
   ],
   "source": [
    "G_GT"
   ]
  },
  {
   "cell_type": "code",
   "execution_count": 15,
   "metadata": {
    "hideCode": false,
    "hidePrompt": false
   },
   "outputs": [],
   "source": [
    "GT_y = np.dot(X_train.transpose(),y_train)"
   ]
  },
  {
   "cell_type": "code",
   "execution_count": 22,
   "metadata": {
    "hideCode": false,
    "hidePrompt": false
   },
   "outputs": [],
   "source": [
    "alphas, err_list = gaussSeidel(G_GT, GT_y, 0.00000005, 500000)"
   ]
  },
  {
   "cell_type": "code",
   "execution_count": 23,
   "metadata": {
    "hideCode": false,
    "hidePrompt": false
   },
   "outputs": [],
   "source": [
    "y_predict = []\n",
    "mult = []\n",
    "for test in X_test:\n",
    "    for i in range(len(alphas)):\n",
    "        mult.append(test[i] * alphas[i])\n",
    "    y_predict.append(sum(mult))\n",
    "    mult.clear()"
   ]
  },
  {
   "cell_type": "code",
   "execution_count": 24,
   "metadata": {
    "hideCode": false,
    "hidePrompt": false
   },
   "outputs": [
    {
     "data": {
      "text/plain": [
       "[77.73420146416437,\n",
       " 92.28767674887425,\n",
       " 14.784368903411314,\n",
       " 32.757419356900456,\n",
       " 214.06899303994004,\n",
       " 162.52452327408767,\n",
       " 78.5376734599559,\n",
       " 152.94888004134873,\n",
       " 201.87169704415695,\n",
       " 159.3352590054709,\n",
       " 37.59256911148748,\n",
       " 157.91373550750447,\n",
       " 18.43952829499138,\n",
       " 29.73538195889632,\n",
       " 101.98896545390917,\n",
       " 218.44591035272308,\n",
       " 24.787908488954756,\n",
       " 19.560698338199956,\n",
       " 73.97284165070964,\n",
       " 138.09618431900526,\n",
       " 16.60055356172767,\n",
       " 292.54673378391107,\n",
       " 47.80112609652089,\n",
       " 29.65938796249883,\n",
       " 44.965019877161616,\n",
       " 21.07478344735476,\n",
       " 33.63898120796098,\n",
       " 121.74925227208082,\n",
       " 26.544943898688192,\n",
       " 218.9390323591601,\n",
       " -2.313325877236357,\n",
       " 23.707249220212923,\n",
       " 15.086468452572863,\n",
       " 64.76060101135828,\n",
       " 18.910911640866843,\n",
       " 466.2662180869789,\n",
       " 202.46817779444748,\n",
       " 43.211214717662735,\n",
       " 23.131530655905657,\n",
       " 384.42128957729676,\n",
       " 364.49009813384697,\n",
       " 38.72320194892127,\n",
       " 33.74981322497584,\n",
       " 83.08582195232566,\n",
       " 141.49252351579088,\n",
       " 275.0714308566691,\n",
       " 93.8006926498892,\n",
       " 12.208803586294625,\n",
       " 17.52742359158603,\n",
       " 23.313164790944533,\n",
       " -3.296418776959916,\n",
       " 2.000825980466524,\n",
       " 27.10280400061966,\n",
       " 74.29113156089008,\n",
       " 4.114558408470192,\n",
       " 71.44038258999132,\n",
       " 31.042285677163424,\n",
       " 122.13745080399792,\n",
       " 52.49797723386588,\n",
       " 69.1437007170298,\n",
       " 30.534407158798597,\n",
       " 331.64566672205945,\n",
       " 47.54428551610859]"
      ]
     },
     "execution_count": 24,
     "metadata": {},
     "output_type": "execute_result"
    }
   ],
   "source": [
    "y_predict"
   ]
  },
  {
   "cell_type": "code",
   "execution_count": 25,
   "metadata": {
    "hideCode": false,
    "hidePrompt": false
   },
   "outputs": [],
   "source": [
    "error = sqrt(mean_squared_error(y_test,y_predict))"
   ]
  },
  {
   "cell_type": "code",
   "execution_count": 26,
   "metadata": {
    "hideCode": false,
    "hidePrompt": false
   },
   "outputs": [
    {
     "data": {
      "text/plain": [
       "40.13567967028691"
      ]
     },
     "execution_count": 26,
     "metadata": {},
     "output_type": "execute_result"
    }
   ],
   "source": [
    "error"
   ]
  },
  {
   "cell_type": "code",
   "execution_count": 28,
   "metadata": {
    "hideCode": false,
    "hidePrompt": false
   },
   "outputs": [],
   "source": [
    "pca = PCA(n_components=1)\n",
    "X_train_pca = pca.fit_transform(X_train)\n",
    "X_train_1d = []\n",
    "for element in X_train_pca:\n",
    "    X_train_1d.append(element[0])"
   ]
  },
  {
   "cell_type": "code",
   "execution_count": 29,
   "metadata": {},
   "outputs": [
    {
     "data": {
      "text/plain": [
       "[-4874.901477067764,\n",
       " -4874.635444137959,\n",
       " -1007.5186626483597,\n",
       " -8743.046215070892,\n",
       " -4875.232419934616,\n",
       " 20118.356235242834,\n",
       " -8866.873776318944,\n",
       " -8486.614821686335,\n",
       " 18582.934552034825,\n",
       " 3115.08683194458,\n",
       " -7899.724817620526,\n",
       " 20118.988665904235,\n",
       " 22165.535931366427,\n",
       " 11362.086944535346,\n",
       " -5000.639135247872,\n",
       " 12383.255480209971,\n",
       " -11831.766314463099,\n",
       " -751.3745167967206,\n",
       " -8741.553390913483,\n",
       " 4649.982326414241,\n",
       " -751.600141898225,\n",
       " -12347.062171124458,\n",
       " -4874.660568028837,\n",
       " -8866.877213362239,\n",
       " 51063.94715841153,\n",
       " -4617.995064142416,\n",
       " -10800.68467798437,\n",
       " -11646.97017134168,\n",
       " 4648.968472500933,\n",
       " -4107.767251634928,\n",
       " 3626.957323166296,\n",
       " -8742.572614537945,\n",
       " -4106.550793522731,\n",
       " -4618.963155877872,\n",
       " 3627.2874810651765,\n",
       " -4618.786404651717,\n",
       " 2857.909006962801,\n",
       " -5001.293570656152,\n",
       " 3627.12051273214,\n",
       " -4874.328538136779,\n",
       " 2858.2428691775267,\n",
       " -10740.815035763633,\n",
       " -10802.415745486882,\n",
       " 3628.424549244554,\n",
       " 18583.136833106382,\n",
       " -4618.925974471922,\n",
       " -8742.34054985568,\n",
       " -4619.393808599998,\n",
       " -4619.019538495522,\n",
       " -10743.335490823627,\n",
       " -11767.45060068039,\n",
       " -1068.138523210205,\n",
       " -6078.355289464738,\n",
       " 18583.524553513318,\n",
       " -6552.367052202124,\n",
       " 20117.705216586106,\n",
       " -4618.547072400274,\n",
       " -8486.216566757126,\n",
       " -10674.986978565386,\n",
       " 22163.75596518815,\n",
       " -4618.481419178117,\n",
       " 3626.9335243415953,\n",
       " -6995.637361743476,\n",
       " -240.86051277958737,\n",
       " -1166.222041246834,\n",
       " -8486.688571871147,\n",
       " 3117.730296993175,\n",
       " -12242.733199145163,\n",
       " -9768.531185265098,\n",
       " -8486.271798334092,\n",
       " 20118.38493975415,\n",
       " -8486.112006267,\n",
       " 3626.147714871958,\n",
       " -9710.008557345043,\n",
       " -2062.868589378331,\n",
       " 3115.2891043791633,\n",
       " -10676.529501034443,\n",
       " 3625.9970592858785,\n",
       " -10675.60833709612,\n",
       " -8485.660553757169,\n",
       " -6077.561573872982,\n",
       " -4618.616020488884,\n",
       " 57196.221987858116,\n",
       " 18584.37367616422,\n",
       " -10737.552625144042,\n",
       " -8741.340687450725,\n",
       " 3115.153895707008,\n",
       " -8491.021047178703,\n",
       " 18585.778904551975,\n",
       " 3116.1977322782072,\n",
       " 2733.715716677447,\n",
       " 3114.938150130067,\n",
       " -8742.112212505242,\n",
       " -8746.770386783577,\n",
       " -9709.824733145075,\n",
       " 2860.0561443430433,\n",
       " -6999.548220192565,\n",
       " -8318.478418071449,\n",
       " 3115.1851655243295,\n",
       " -7032.370340073104,\n",
       " 20117.11521510761,\n",
       " -10799.917473035817,\n",
       " -4999.583606323241,\n",
       " -4618.002290833839,\n",
       " -4874.8281173183,\n",
       " 51060.99909975335,\n",
       " -9992.551863362882,\n",
       " 3627.383782672838,\n",
       " 3114.525208168357,\n",
       " -8486.059580824467,\n",
       " 53101.52967401195,\n",
       " -5069.451853407617,\n",
       " 3115.3372300141446,\n",
       " 20118.30750976207,\n",
       " -5069.501020197492,\n",
       " -6282.37315702473,\n",
       " -5069.378103222805,\n",
       " -4617.419078272976,\n",
       " 22165.25555227933,\n",
       " -4874.384591609318,\n",
       " -4618.658565057749,\n",
       " -8486.078691514498,\n",
       " 22164.929317322243,\n",
       " -8741.45054110097,\n",
       " -5036.005665481907,\n",
       " -4618.833553066343,\n",
       " -11641.92123955346,\n",
       " 22165.816127387894,\n",
       " -8485.918150755326,\n",
       " 3626.669199011538,\n",
       " -6932.635912229898,\n",
       " -6390.536421776431,\n",
       " -8741.72914419617,\n",
       " -10800.497646824444,\n",
       " 3115.0200432303172,\n",
       " -4362.97623139685,\n",
       " 3115.4601469888307,\n",
       " 3626.5200697636647,\n",
       " 20120.181921981195,\n",
       " -1066.9397252589954,\n",
       " -4874.58651416333,\n",
       " -8866.787734436664,\n",
       " -8866.333770651838,\n",
       " -10865.534555468037,\n",
       " -4618.633981662812,\n",
       " -8741.140784661406]"
      ]
     },
     "execution_count": 29,
     "metadata": {},
     "output_type": "execute_result"
    }
   ],
   "source": [
    "X_train_1d"
   ]
  },
  {
   "cell_type": "code",
   "execution_count": 30,
   "metadata": {},
   "outputs": [
    {
     "name": "stderr",
     "output_type": "stream",
     "text": [
      "C:\\Users\\joao_\\Anaconda3\\lib\\site-packages\\scipy\\stats\\stats.py:1713: FutureWarning: Using a non-tuple sequence for multidimensional indexing is deprecated; use `arr[tuple(seq)]` instead of `arr[seq]`. In the future this will be interpreted as an array index, `arr[np.array(seq)]`, which will result either in an error or a different result.\n",
      "  return np.add.reduce(sorted[indexer] * weights, axis=axis) / sumval\n"
     ]
    },
    {
     "data": {
      "text/plain": [
       "<matplotlib.axes._subplots.AxesSubplot at 0x1aa25f7eeb8>"
      ]
     },
     "execution_count": 30,
     "metadata": {},
     "output_type": "execute_result"
    },
    {
     "data": {
      "image/png": "[encoded data removed]",
      "text/plain": [
       "<Figure size 432x288 with 1 Axes>"
      ]
     },
     "metadata": {
      "needs_background": "light"
     },
     "output_type": "display_data"
    }
   ],
   "source": [
    "sns.regplot(x=X_train_1d, y=y_train, data=df)"
   ]
  },
  {
   "cell_type": "code",
   "execution_count": null,
   "metadata": {},
   "outputs": [],
   "source": []
  }
 ],
 "metadata": {
  "hide_code_all_hidden": false,
  "kernelspec": {
   "display_name": "Python 3",
   "language": "python",
   "name": "python3"
  },
  "language_info": {
   "codemirror_mode": {
    "name": "ipython",
    "version": 3
   },
   "file_extension": ".py",
   "mimetype": "text/x-python",
   "name": "python",
   "nbconvert_exporter": "python",
   "pygments_lexer": "ipython3",
   "version": "3.6.6"
  }
 },
 "nbformat": 4,
 "nbformat_minor": 2
}
