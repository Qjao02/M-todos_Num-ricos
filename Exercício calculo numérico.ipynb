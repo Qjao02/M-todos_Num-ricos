{
 "cells": [
  {
   "cell_type": "markdown",
   "metadata": {},
   "source": [
    "# Leitura do input\n",
    "### Matriz\n",
    "o input matriz consiste em um matriz (3x3) onde a primeira linha é a dimensão, e apartir da segunda linha, a matriz de fato (Exemplo do caderno)\n"
   ]
  },
  {
   "cell_type": "code",
   "execution_count": 1,
   "metadata": {},
   "outputs": [],
   "source": [
    "def read_matriz_file(path):\n",
    "    file = open('input/matriz_exercicio_caderno.txt','r')\n",
    "    dimensao = int(file.readline().replace('\\n', ''))\n",
    "    matriz = []\n",
    "    rows = file.read().splitlines()\n",
    "    for line in rows:\n",
    "        matriz.append(list(map(float,line.split(' '))))\n",
    "\n",
    "    return dimensao, matriz"
   ]
  },
  {
   "cell_type": "markdown",
   "metadata": {},
   "source": [
    "### Vetor\n",
    "O vetor (b) consis apenas em uma linha com os valores (Exemplo do caderno"
   ]
  },
  {
   "cell_type": "code",
   "execution_count": 2,
   "metadata": {},
   "outputs": [],
   "source": [
    "def read_vetor_file(path):\n",
    "    file = open(path,'r')\n",
    "    vetor = list(map(float, file.readline().split(' ')))\n",
    "    return vetor"
   ]
  },
  {
   "cell_type": "markdown",
   "metadata": {},
   "source": [
    "# Implementação do método eliminação de Gauss"
   ]
  },
  {
   "cell_type": "code",
   "execution_count": 3,
   "metadata": {},
   "outputs": [],
   "source": [
    "def eliminacao_gauss(matriz, dimensao, b):\n",
    "    x = []\n",
    "    for i in range(dimensao):\n",
    "        x.append(1)\n",
    "\n",
    "    for k in range(0, dimensao - 1  ):\n",
    "        i = k+1\n",
    "        for i in range(k+1, dimensao ):\n",
    "            m = matriz[i][k]/matriz[k][k]\n",
    "            matriz[i][k] = 0\n",
    "            j = k+1\n",
    "            for j in range(k+1, dimensao):\n",
    "                matriz[i][j] = matriz[i][j] - (m * matriz[k][j])\n",
    "\n",
    "            b[i] = b[i] - m * b[k]\n",
    "\n",
    "\n",
    "    x[dimensao - 1] = b[dimensao-1] / matriz[dimensao-1][dimensao-1]\n",
    "    for i in range(dimensao-2, -1, -1):\n",
    "        soma = 0\n",
    "        for j in range(i+1, dimensao):\n",
    "            soma = soma + matriz[i][j] * x[j]\n",
    "\n",
    "        x[i] = (b[i] - soma)/matriz[i][i]\n",
    "\n",
    "    return x, matriz"
   ]
  },
  {
   "cell_type": "markdown",
   "metadata": {},
   "source": [
    "# Gauss Seidel"
   ]
  },
  {
   "cell_type": "markdown",
   "metadata": {},
   "source": [
    "## Metodo para o cálculo de erro baseado no método apresentado em sala de aula"
   ]
  },
  {
   "cell_type": "code",
   "execution_count": 4,
   "metadata": {},
   "outputs": [],
   "source": [
    "def calc_erro(x_atual,x_ant):\n",
    "    num = []\n",
    "    for i in range (len(x_atual)):\n",
    "        num.append(abs(x_atual[i] - x_ant[i]))\n",
    "\n",
    "    err = max(num)/max(x_atual)\n",
    "    print('erro' + str(err))\n",
    "    return err\n"
   ]
  },
  {
   "cell_type": "markdown",
   "metadata": {},
   "source": [
    "## Implementação do método de Gauss Seidel"
   ]
  },
  {
   "cell_type": "code",
   "execution_count": 5,
   "metadata": {},
   "outputs": [],
   "source": [
    "def gaussSeidel(matriz, b, tol , stop ):\n",
    "\n",
    "    x_ant = []\n",
    "    x_atual = []\n",
    "    for i in range(len(b)):\n",
    "        x_ant.append(1)\n",
    "        x_atual.append(1)\n",
    "\n",
    "    k = 1\n",
    "    while(k <= stop):\n",
    "        for i in range(0,len(b)):\n",
    "            alpha = 0\n",
    "            for j in range(0, i):\n",
    "                alpha = alpha + matriz[i][j] * x_atual[j]\n",
    "            for j in range(i+1, len(b)):\n",
    "                alpha = alpha + matriz[i][j] * x_ant[j]\n",
    "            x_atual[i] = (b[i] - alpha) / matriz[i][i]\n",
    "        \n",
    "        print(x_atual)\n",
    "        if( calc_erro(x_atual,x_ant) < tol):\n",
    "            return x_atual\n",
    "        x_ant = x_atual\n",
    "        k = k+1\n",
    "\n",
    "    print('numero de iteracoes expirados')\n",
    "    return x_atual\n"
   ]
  },
  {
   "cell_type": "markdown",
   "metadata": {},
   "source": [
    "# Executando os métodos implementados"
   ]
  },
  {
   "cell_type": "markdown",
   "metadata": {},
   "source": [
    "## Execução do método de eliminação de gauss"
   ]
  },
  {
   "cell_type": "markdown",
   "metadata": {},
   "source": [
    "Realiza a leitura dos arquivos de matriz e vetor"
   ]
  },
  {
   "cell_type": "code",
   "execution_count": 6,
   "metadata": {},
   "outputs": [],
   "source": [
    "dimensao, matriz = read_matriz_file('input/matriz_exercicio_caderno.txt')"
   ]
  },
  {
   "cell_type": "code",
   "execution_count": 7,
   "metadata": {},
   "outputs": [],
   "source": [
    "b = read_vetor_file('input/vetor_exercicio_caderno.txt')\n"
   ]
  },
  {
   "cell_type": "markdown",
   "metadata": {},
   "source": [
    "Output da dimensao, matriz e vetor"
   ]
  },
  {
   "cell_type": "code",
   "execution_count": 8,
   "metadata": {},
   "outputs": [
    {
     "data": {
      "text/plain": [
       "3"
      ]
     },
     "execution_count": 8,
     "metadata": {},
     "output_type": "execute_result"
    }
   ],
   "source": [
    "dimensao"
   ]
  },
  {
   "cell_type": "code",
   "execution_count": 9,
   "metadata": {},
   "outputs": [
    {
     "name": "stdout",
     "output_type": "stream",
     "text": [
      "[3.0, 2.0, 4.0]\n",
      "[1.0, 1.0, 2.0]\n",
      "[4.0, 3.0, -2.0]\n"
     ]
    }
   ],
   "source": [
    "for line in matriz:\n",
    "    print(line)"
   ]
  },
  {
   "cell_type": "code",
   "execution_count": 10,
   "metadata": {},
   "outputs": [
    {
     "data": {
      "text/plain": [
       "[1.0, 2.0, 3.0]"
      ]
     },
     "execution_count": 10,
     "metadata": {},
     "output_type": "execute_result"
    }
   ],
   "source": [
    "b"
   ]
  },
  {
   "cell_type": "markdown",
   "metadata": {},
   "source": [
    "Chama o Metodo da eliminação, o metodo retorna um vetor e a matriz escalonada"
   ]
  },
  {
   "cell_type": "code",
   "execution_count": 11,
   "metadata": {},
   "outputs": [],
   "source": [
    "response, matriz_escalonada = eliminacao_gauss(matriz, dimensao, b)\n"
   ]
  },
  {
   "cell_type": "markdown",
   "metadata": {},
   "source": [
    "Output do metodo, vetor e matriz escalonada"
   ]
  },
  {
   "cell_type": "code",
   "execution_count": 12,
   "metadata": {},
   "outputs": [
    {
     "data": {
      "text/plain": [
       "[-3.0, 5.0, 5.551115123125783e-17]"
      ]
     },
     "execution_count": 12,
     "metadata": {},
     "output_type": "execute_result"
    }
   ],
   "source": [
    "response"
   ]
  },
  {
   "cell_type": "code",
   "execution_count": 13,
   "metadata": {},
   "outputs": [
    {
     "name": "stdout",
     "output_type": "stream",
     "text": [
      "[3.0, 2.0, 4.0]\n",
      "[0, 0.33333333333333337, 0.6666666666666667]\n",
      "[0, 0, -8.0]\n"
     ]
    }
   ],
   "source": [
    "for linha in matriz_escalonada:\n",
    "    print(linha)"
   ]
  },
  {
   "cell_type": "markdown",
   "metadata": {},
   "source": [
    "## Executando o método de gauss seidel"
   ]
  },
  {
   "cell_type": "code",
   "execution_count": 24,
   "metadata": {},
   "outputs": [],
   "source": [
    "dimensao, matriz = read_matriz_file('input/matriz_exercicio_caderno.txt')"
   ]
  },
  {
   "cell_type": "code",
   "execution_count": 25,
   "metadata": {},
   "outputs": [],
   "source": [
    "vetor = read_vetor_file('input/vetor_exercicio_caderno.txt')"
   ]
  },
  {
   "cell_type": "code",
   "execution_count": 26,
   "metadata": {},
   "outputs": [
    {
     "name": "stdout",
     "output_type": "stream",
     "text": [
      "[-1.6666666666666667, 1.6666666666666667, -2.3333333333333335]\n",
      "erro2.0\n",
      "[2.3333333333333335, 4.333333333333334, 9.666666666666668]\n",
      "erro0.0\n"
     ]
    }
   ],
   "source": [
    "response = gaussSeidel(matriz, vetor, 0.00000000000000001, 2)\n"
   ]
  },
  {
   "cell_type": "code",
   "execution_count": 27,
   "metadata": {},
   "outputs": [
    {
     "data": {
      "text/plain": [
       "[2.3333333333333335, 4.333333333333334, 9.666666666666668]"
      ]
     },
     "execution_count": 27,
     "metadata": {},
     "output_type": "execute_result"
    }
   ],
   "source": [
    "response"
   ]
  },
  {
   "cell_type": "markdown",
   "metadata": {},
   "source": [
    "## Comparação"
   ]
  },
  {
   "cell_type": "code",
   "execution_count": 28,
   "metadata": {},
   "outputs": [],
   "source": [
    "import matplotlib.pyplot as plt\n",
    "import seaborn as sns"
   ]
  },
  {
   "cell_type": "code",
   "execution_count": 29,
   "metadata": {},
   "outputs": [
    {
     "data": {
      "text/plain": [
       "'\\nsalvar as iterações do gauss seidel, e plotar a convergencia no grafico\\n'"
      ]
     },
     "execution_count": 29,
     "metadata": {},
     "output_type": "execute_result"
    }
   ],
   "source": [
    "'''\n",
    "salvar as iterações do gauss seidel, e plotar a convergencia no grafico\n",
    "'''"
   ]
  },
  {
   "cell_type": "code",
   "execution_count": null,
   "metadata": {},
   "outputs": [],
   "source": []
  }
 ],
 "metadata": {
  "kernelspec": {
   "display_name": "Python 3",
   "language": "python",
   "name": "python3"
  },
  "language_info": {
   "codemirror_mode": {
    "name": "ipython",
    "version": 3
   },
   "file_extension": ".py",
   "mimetype": "text/x-python",
   "name": "python",
   "nbconvert_exporter": "python",
   "pygments_lexer": "ipython3",
   "version": "3.6.5"
  }
 },
 "nbformat": 4,
 "nbformat_minor": 2
}
