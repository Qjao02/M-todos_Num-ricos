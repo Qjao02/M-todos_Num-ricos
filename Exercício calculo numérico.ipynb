{
 "cells": [
  {
   "cell_type": "markdown",
   "metadata": {
    "hideCode": false,
    "hidePrompt": false
   },
   "source": [
    "# Imports"
   ]
  },
  {
   "cell_type": "code",
   "execution_count": 1,
   "metadata": {
    "hideCode": false,
    "hidePrompt": false
   },
   "outputs": [],
   "source": [
    "import random\n",
    "import math\n",
    "import matplotlib.pyplot as plt\n",
    "import seaborn as sns\n",
    "import pandas as pd\n",
    "import time\n",
    "\n",
    "import pylab\n",
    "pylab.rcParams['figure.figsize'] = (10.0, 10.0)\n",
    "\n",
    "import timeit\n"
   ]
  },
  {
   "cell_type": "markdown",
   "metadata": {
    "hideCode": false,
    "hidePrompt": false
   },
   "source": [
    "# Leitura do input\n",
    "### Matriz\n",
    "o input matriz consiste em um matriz (3x3) onde a primeira linha é a dimensão, e apartir da segunda linha, a matriz de fato (Exemplo do caderno)\n"
   ]
  },
  {
   "cell_type": "code",
   "execution_count": 2,
   "metadata": {
    "hideCode": false,
    "hidePrompt": false
   },
   "outputs": [],
   "source": [
    "def read_matriz_file(path):\n",
    "    file = open(path,'r')\n",
    "    dimensao = int(file.readline().replace('\\n', ''))\n",
    "    matriz = []\n",
    "    rows = file.read().splitlines()\n",
    "    for line in rows:\n",
    "        matriz.append(list(map(float,line.split(' '))))\n",
    "\n",
    "    return dimensao, matriz"
   ]
  },
  {
   "cell_type": "markdown",
   "metadata": {
    "hideCode": false,
    "hidePrompt": false
   },
   "source": [
    "### Vetor\n",
    "O vetor (b) consis apenas em uma linha com os valores (Exemplo do caderno"
   ]
  },
  {
   "cell_type": "code",
   "execution_count": 3,
   "metadata": {
    "hideCode": false,
    "hidePrompt": false
   },
   "outputs": [],
   "source": [
    "def read_vetor_file(path):\n",
    "    file = open(path,'r')\n",
    "    vetor = list(map(float, file.readline().split(' ')))\n",
    "    return vetor"
   ]
  },
  {
   "cell_type": "markdown",
   "metadata": {
    "hideCode": false,
    "hidePrompt": false
   },
   "source": [
    "# Implementação do método eliminação de Gauss"
   ]
  },
  {
   "cell_type": "code",
   "execution_count": 4,
   "metadata": {
    "hideCode": false,
    "hidePrompt": false
   },
   "outputs": [],
   "source": [
    "def eliminacao_gauss(matriz, dimensao, b):\n",
    "    x = []\n",
    "    for i in range(dimensao):\n",
    "        x.append(1)\n",
    "\n",
    "    for k in range(0, dimensao - 1  ):\n",
    "        i = k+1\n",
    "        for i in range(k+1, dimensao ):\n",
    "            m = matriz[i][k]/matriz[k][k]\n",
    "            matriz[i][k] = 0\n",
    "            j = k+1\n",
    "            for j in range(k+1, dimensao):\n",
    "                matriz[i][j] = matriz[i][j] - (m * matriz[k][j])\n",
    "\n",
    "            b[i] = b[i] - m * b[k]\n",
    "\n",
    "\n",
    "    x[dimensao - 1] = b[dimensao-1] / matriz[dimensao-1][dimensao-1]\n",
    "    for i in range(dimensao-2, -1, -1):\n",
    "        soma = 0\n",
    "        for j in range(i+1, dimensao):\n",
    "            soma = soma + matriz[i][j] * x[j]\n",
    "\n",
    "        x[i] = (b[i] - soma)/matriz[i][i]\n",
    "\n",
    "    return x, matriz"
   ]
  },
  {
   "cell_type": "markdown",
   "metadata": {
    "hideCode": false,
    "hidePrompt": false
   },
   "source": [
    "# Gauss Seidel"
   ]
  },
  {
   "cell_type": "markdown",
   "metadata": {
    "hideCode": false,
    "hidePrompt": false
   },
   "source": [
    "## Metodo para o cálculo de erro baseado no método apresentado em sala de aula"
   ]
  },
  {
   "cell_type": "code",
   "execution_count": 5,
   "metadata": {
    "hideCode": false,
    "hidePrompt": false
   },
   "outputs": [],
   "source": [
    "def calc_erro(x_atual,x_ant, err_list):\n",
    "    num = []\n",
    "    for i in range (len(x_atual)):\n",
    "        num.append(abs(x_atual[i] - x_ant[i]))\n",
    "\n",
    "    err = max(num)/abs(max(x_atual))\n",
    "    err_list.append(err)\n",
    "    return err\n"
   ]
  },
  {
   "cell_type": "markdown",
   "metadata": {
    "hideCode": false,
    "hidePrompt": false
   },
   "source": [
    "## Implementação do método de Gauss Seidel"
   ]
  },
  {
   "cell_type": "code",
   "execution_count": 6,
   "metadata": {
    "hideCode": false,
    "hidePrompt": false
   },
   "outputs": [],
   "source": [
    "\n",
    "def gaussSeidel(matriz, b, tol , stop ):\n",
    "    err_list = []\n",
    "    x_ant = []\n",
    "    x_atual = []\n",
    "    for i in range(len(b)):\n",
    "        x_ant.append(0) \n",
    "        x_atual.append(0)\n",
    "\n",
    "    k = 1\n",
    "    while(k <= stop):\n",
    "        for i in range(0,len(b)):\n",
    "            alpha = 0\n",
    "            for j in range(0, i):\n",
    "                alpha = alpha + matriz[i][j] * x_atual[j]\n",
    "            for j in range(i+1, len(b)):\n",
    "                alpha = alpha + matriz[i][j] * x_ant[j]\n",
    "            x_atual[i] = (b[i] - alpha) / matriz[i][i]\n",
    "        \n",
    "        if( abs(calc_erro(x_atual,x_ant, err_list)) < tol):\n",
    "            return x_atual, err_list\n",
    "        for i in range(len(x_atual)):\n",
    "            x_ant[i] = x_atual[i]\n",
    "        k = k+1\n",
    "\n",
    "    print('numero de iteracoes expirados')\n",
    "    return x_atual, err_list\n"
   ]
  },
  {
   "cell_type": "markdown",
   "metadata": {
    "hideCode": false,
    "hidePrompt": false
   },
   "source": [
    "# Executando os métodos implementados"
   ]
  },
  {
   "cell_type": "markdown",
   "metadata": {
    "hideCode": false,
    "hidePrompt": false
   },
   "source": [
    "## Execução do método de eliminação de gauss"
   ]
  },
  {
   "cell_type": "markdown",
   "metadata": {
    "hideCode": false,
    "hidePrompt": false
   },
   "source": [
    "Realiza a leitura dos arquivos de matriz e vetor"
   ]
  },
  {
   "cell_type": "code",
   "execution_count": 7,
   "metadata": {
    "hideCode": false,
    "hidePrompt": false
   },
   "outputs": [],
   "source": [
    "dimensao, matriz = read_matriz_file('input/matriz_gauss_seidel_caderno.txt')"
   ]
  },
  {
   "cell_type": "code",
   "execution_count": 9,
   "metadata": {
    "hideCode": false,
    "hidePrompt": false
   },
   "outputs": [],
   "source": [
    "b = read_vetor_file('input/vetor_gauss_seidel_caderno.txt')\n"
   ]
  },
  {
   "cell_type": "markdown",
   "metadata": {
    "hideCode": false,
    "hidePrompt": false
   },
   "source": [
    "Output da dimensao, matriz e vetor"
   ]
  },
  {
   "cell_type": "code",
   "execution_count": 8,
   "metadata": {
    "hideCode": false,
    "hidePrompt": false
   },
   "outputs": [
    {
     "data": {
      "text/plain": [
       "3"
      ]
     },
     "execution_count": 8,
     "metadata": {},
     "output_type": "execute_result"
    }
   ],
   "source": [
    "dimensao"
   ]
  },
  {
   "cell_type": "code",
   "execution_count": 10,
   "metadata": {
    "hideCode": false,
    "hidePrompt": false
   },
   "outputs": [
    {
     "name": "stdout",
     "output_type": "stream",
     "text": [
      "[5.0, 1.0, 1.0]\n",
      "[2.0, 4.0, 1.0]\n",
      "[3.0, 2.0, 6.0]\n"
     ]
    }
   ],
   "source": [
    "for line in matriz:\n",
    "    print(line)"
   ]
  },
  {
   "cell_type": "code",
   "execution_count": 11,
   "metadata": {
    "hideCode": false,
    "hidePrompt": false
   },
   "outputs": [
    {
     "data": {
      "text/plain": [
       "[5.0, 6.0, 0.0]"
      ]
     },
     "execution_count": 11,
     "metadata": {},
     "output_type": "execute_result"
    }
   ],
   "source": [
    "b"
   ]
  },
  {
   "cell_type": "markdown",
   "metadata": {
    "hideCode": false,
    "hidePrompt": false
   },
   "source": [
    "Chama o Metodo da eliminação, o metodo retorna um vetor e a matriz escalonada"
   ]
  },
  {
   "cell_type": "code",
   "execution_count": 12,
   "metadata": {
    "hideCode": false,
    "hidePrompt": false
   },
   "outputs": [],
   "source": [
    "inicio = timeit.default_timer()\n",
    "response1, matriz_escalonada = eliminacao_gauss(matriz, dimensao, b)\n",
    "fim = timeit.default_timer()\n",
    "tempo_execucao_func1 = fim - inicio"
   ]
  },
  {
   "cell_type": "markdown",
   "metadata": {
    "hideCode": false,
    "hidePrompt": false
   },
   "source": [
    "Output do metodo, vetor e matriz escalonada"
   ]
  },
  {
   "cell_type": "code",
   "execution_count": 13,
   "metadata": {
    "hideCode": false,
    "hidePrompt": false
   },
   "outputs": [
    {
     "data": {
      "text/plain": [
       "[0.9247311827956988, 1.2580645161290323, -0.8817204301075268]"
      ]
     },
     "execution_count": 13,
     "metadata": {},
     "output_type": "execute_result"
    }
   ],
   "source": [
    "response1"
   ]
  },
  {
   "cell_type": "code",
   "execution_count": 14,
   "metadata": {
    "hideCode": false,
    "hidePrompt": false
   },
   "outputs": [
    {
     "name": "stdout",
     "output_type": "stream",
     "text": [
      "[5.0, 1.0, 1.0]\n",
      "[0, 3.6, 0.6]\n",
      "[0, 0, 5.166666666666667]\n"
     ]
    }
   ],
   "source": [
    "for linha in matriz_escalonada:\n",
    "    print(linha)"
   ]
  },
  {
   "cell_type": "markdown",
   "metadata": {
    "hideCode": false,
    "hidePrompt": false
   },
   "source": [
    "## Executando o método de gauss seidel"
   ]
  },
  {
   "cell_type": "code",
   "execution_count": 17,
   "metadata": {
    "hideCode": false,
    "hidePrompt": false
   },
   "outputs": [],
   "source": [
    "dimensao, matriz = read_matriz_file('input/matriz_gauss_seidel_caderno.txt')"
   ]
  },
  {
   "cell_type": "code",
   "execution_count": 16,
   "metadata": {
    "hideCode": false,
    "hidePrompt": false
   },
   "outputs": [],
   "source": [
    "vetor = read_vetor_file('input/vetor_gauss_seidel_caderno.txt')"
   ]
  },
  {
   "cell_type": "code",
   "execution_count": 15,
   "metadata": {
    "hideCode": false,
    "hidePrompt": false
   },
   "outputs": [
    {
     "data": {
      "text/plain": [
       "3"
      ]
     },
     "execution_count": 15,
     "metadata": {},
     "output_type": "execute_result"
    }
   ],
   "source": [
    "dimensao"
   ]
  },
  {
   "cell_type": "code",
   "execution_count": 18,
   "metadata": {
    "hideCode": false,
    "hidePrompt": false
   },
   "outputs": [
    {
     "name": "stdout",
     "output_type": "stream",
     "text": [
      "[5.0, 1.0, 1.0]\n",
      "[2.0, 4.0, 1.0]\n",
      "[3.0, 2.0, 6.0]\n"
     ]
    }
   ],
   "source": [
    "for row in matriz:\n",
    "    print(row)"
   ]
  },
  {
   "cell_type": "code",
   "execution_count": 20,
   "metadata": {
    "hideCode": false,
    "hidePrompt": false
   },
   "outputs": [
    {
     "data": {
      "text/plain": [
       "[5.0, 6.0, 0.0]"
      ]
     },
     "execution_count": 20,
     "metadata": {},
     "output_type": "execute_result"
    }
   ],
   "source": [
    "vetor"
   ]
  },
  {
   "cell_type": "code",
   "execution_count": 19,
   "metadata": {
    "hideCode": false,
    "hidePrompt": false
   },
   "outputs": [],
   "source": [
    "inicio = timeit.default_timer()\n",
    "response2, err_list = gaussSeidel(matriz, vetor, 0.00000000000000001, 30)\n",
    "fim = timeit.default_timer()\n",
    "tempo_execucao_func2 = fim -  inicio"
   ]
  },
  {
   "cell_type": "code",
   "execution_count": 23,
   "metadata": {
    "hideCode": false,
    "hidePrompt": false
   },
   "outputs": [
    {
     "data": {
      "text/plain": [
       "[0.924731182795699, 1.2580645161290323, -0.881720430107527]"
      ]
     },
     "execution_count": 23,
     "metadata": {},
     "output_type": "execute_result"
    }
   ],
   "source": [
    "response2"
   ]
  },
  {
   "cell_type": "markdown",
   "metadata": {
    "hideCode": false,
    "hidePrompt": false
   },
   "source": [
    "## Comparação"
   ]
  },
  {
   "cell_type": "markdown",
   "metadata": {
    "hideCode": false,
    "hidePrompt": false
   },
   "source": [
    "## Respostas"
   ]
  },
  {
   "cell_type": "markdown",
   "metadata": {
    "hideCode": false,
    "hidePrompt": false
   },
   "source": [
    "Comparando as respostas dos dois métodos temos:"
   ]
  },
  {
   "cell_type": "code",
   "execution_count": 22,
   "metadata": {
    "hideCode": false,
    "hidePrompt": false
   },
   "outputs": [
    {
     "data": {
      "text/plain": [
       "[0.9247311827956988, 1.2580645161290323, -0.8817204301075268]"
      ]
     },
     "execution_count": 22,
     "metadata": {},
     "output_type": "execute_result"
    }
   ],
   "source": [
    "response1"
   ]
  },
  {
   "cell_type": "code",
   "execution_count": 21,
   "metadata": {
    "hideCode": false,
    "hidePrompt": false
   },
   "outputs": [
    {
     "data": {
      "text/plain": [
       "[0.924731182795699, 1.2580645161290323, -0.881720430107527]"
      ]
     },
     "execution_count": 21,
     "metadata": {},
     "output_type": "execute_result"
    }
   ],
   "source": [
    "response2"
   ]
  },
  {
   "cell_type": "markdown",
   "metadata": {
    "hideCode": false,
    "hidePrompt": false
   },
   "source": [
    "realizando a diferença dos dois métodos temos uma diferença de:"
   ]
  },
  {
   "cell_type": "code",
   "execution_count": 24,
   "metadata": {
    "hideCode": false,
    "hidePrompt": false
   },
   "outputs": [
    {
     "name": "stdout",
     "output_type": "stream",
     "text": [
      "2.220446049250313e-16\n",
      "0.0\n",
      "2.220446049250313e-16\n"
     ]
    }
   ],
   "source": [
    "for i in range(len(response1)):\n",
    "    print(str(abs(response1[i] - response2[i])) )"
   ]
  },
  {
   "cell_type": "markdown",
   "metadata": {
    "hideCode": false,
    "hidePrompt": false
   },
   "source": [
    "## Gráfico de convergencia do erro"
   ]
  },
  {
   "cell_type": "code",
   "execution_count": 25,
   "metadata": {
    "hideCode": false,
    "hidePrompt": false
   },
   "outputs": [],
   "source": [
    "df = pd.DataFrame(columns=['Iteracao', 'Valor_erro'])"
   ]
  },
  {
   "cell_type": "code",
   "execution_count": 27,
   "metadata": {
    "hideCode": false,
    "hidePrompt": false
   },
   "outputs": [],
   "source": [
    "for i in range(len(err_list)):\n",
    "    df.loc[i] = i, err_list[i]"
   ]
  },
  {
   "cell_type": "code",
   "execution_count": 31,
   "metadata": {
    "hideCode": false,
    "hidePrompt": false
   },
   "outputs": [],
   "source": [
    "sns.set()"
   ]
  },
  {
   "cell_type": "code",
   "execution_count": 32,
   "metadata": {
    "hideCode": false,
    "hidePrompt": false
   },
   "outputs": [
    {
     "data": {
      "image/png": "[encoded data removed]",
      "text/plain": [
       "<Figure size 432x288 with 1 Axes>"
      ]
     },
     "metadata": {},
     "output_type": "display_data"
    }
   ],
   "source": [
    "ax = sns.lineplot(x='Iteracao',y='Valor_erro',data=df.astype(dtype=float))"
   ]
  },
  {
   "cell_type": "markdown",
   "metadata": {
    "hideCode": false,
    "hidePrompt": false
   },
   "source": [
    "O gráfico acima mostra como a convergência do método de gauss seidel é rápida, mostrando que, em 21 iterações, foi possível de se obter um erro 0, além disso, percebe-se que nas primeiras iterações o valor do erro decai muito rápido"
   ]
  },
  {
   "cell_type": "markdown",
   "metadata": {},
   "source": [
    "## Análisando o tempo de execução dos métodos"
   ]
  },
  {
   "cell_type": "markdown",
   "metadata": {},
   "source": [
    "Tempo de execução da função 1 "
   ]
  },
  {
   "cell_type": "code",
   "execution_count": 29,
   "metadata": {
    "hideCode": false,
    "hidePrompt": false
   },
   "outputs": [
    {
     "data": {
      "text/plain": [
       "8.271338544075366e-05"
      ]
     },
     "execution_count": 29,
     "metadata": {},
     "output_type": "execute_result"
    }
   ],
   "source": [
    "tempo_execucao_func1"
   ]
  },
  {
   "cell_type": "markdown",
   "metadata": {
    "hideCode": false,
    "hidePrompt": false
   },
   "source": [
    "Tempo de Execução da função 2"
   ]
  },
  {
   "cell_type": "code",
   "execution_count": 26,
   "metadata": {},
   "outputs": [
    {
     "data": {
      "text/plain": [
       "0.0004902428392548064"
      ]
     },
     "execution_count": 26,
     "metadata": {},
     "output_type": "execute_result"
    }
   ],
   "source": [
    "tempo_execucao_func2"
   ]
  },
  {
   "cell_type": "code",
   "execution_count": 63,
   "metadata": {},
   "outputs": [],
   "source": [
    "df = pd.DataFrame(columns=['Eliminacao_de_Gauss','Gauss_Seidel'])\n",
    "df.loc[0] = tempo_execucao_func1,tempo_execucao_func2\n"
   ]
  },
  {
   "cell_type": "code",
   "execution_count": 64,
   "metadata": {},
   "outputs": [
    {
     "data": {
      "text/html": [
       "<div>\n",
       "<style scoped>\n",
       "    .dataframe tbody tr th:only-of-type {\n",
       "        vertical-align: middle;\n",
       "    }\n",
       "\n",
       "    .dataframe tbody tr th {\n",
       "        vertical-align: top;\n",
       "    }\n",
       "\n",
       "    .dataframe thead th {\n",
       "        text-align: right;\n",
       "    }\n",
       "</style>\n",
       "<table border=\"1\" class=\"dataframe\">\n",
       "  <thead>\n",
       "    <tr style=\"text-align: right;\">\n",
       "      <th></th>\n",
       "      <th>Eliminacao_de_Gauss</th>\n",
       "      <th>Gauss_Seidel</th>\n",
       "    </tr>\n",
       "  </thead>\n",
       "  <tbody>\n",
       "    <tr>\n",
       "      <th>0</th>\n",
       "      <td>0.000083</td>\n",
       "      <td>0.00049</td>\n",
       "    </tr>\n",
       "  </tbody>\n",
       "</table>\n",
       "</div>"
      ],
      "text/plain": [
       "   Eliminacao_de_Gauss  Gauss_Seidel\n",
       "0             0.000083       0.00049"
      ]
     },
     "execution_count": 64,
     "metadata": {},
     "output_type": "execute_result"
    }
   ],
   "source": [
    "df"
   ]
  },
  {
   "cell_type": "code",
   "execution_count": 67,
   "metadata": {},
   "outputs": [
    {
     "data": {
      "text/plain": [
       "<matplotlib.axes._subplots.AxesSubplot at 0x281bac4f4a8>"
      ]
     },
     "execution_count": 67,
     "metadata": {},
     "output_type": "execute_result"
    },
    {
     "data": {
      "image/png": "[encoded data removed]",
      "text/plain": [
       "<Figure size 432x288 with 1 Axes>"
      ]
     },
     "metadata": {},
     "output_type": "display_data"
    }
   ],
   "source": [
    "sns.barplot(x=['eliminacao_de_gauss','gauss_seidel'], y=[tempo_execucao_func1,tempo_execucao_func2])"
   ]
  },
  {
   "cell_type": "markdown",
   "metadata": {},
   "source": [
    "Como também podemos notar, o tempo de execução do gauss seidel é relativamente mais alto que o metodo eliminacao de gauss"
   ]
  }
 ],
 "metadata": {
  "hide_code_all_hidden": false,
  "kernelspec": {
   "display_name": "Python 3",
   "language": "python",
   "name": "python3"
  },
  "language_info": {
   "codemirror_mode": {
    "name": "ipython",
    "version": 3
   },
   "file_extension": ".py",
   "mimetype": "text/x-python",
   "name": "python",
   "nbconvert_exporter": "python",
   "pygments_lexer": "ipython3",
   "version": "3.6.6"
  }
 },
 "nbformat": 4,
 "nbformat_minor": 2
}
